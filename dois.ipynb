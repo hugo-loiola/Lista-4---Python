{
 "cells": [
  {
   "cell_type": "code",
   "execution_count": 6,
   "metadata": {},
   "outputs": [
    {
     "name": "stdout",
     "output_type": "stream",
     "text": [
      "Média aritmética simples: 11\n",
      "\n",
      "Média harmonica: 10\n",
      "\n",
      "Média geométrica: 11\n",
      "\n",
      "Moda: 13\n",
      "\n",
      "Variância: 11\n",
      "\n",
      "Desvio Padrão: 3\n",
      "\n"
     ]
    }
   ],
   "source": [
    "import statistics\n",
    "from scipy.stats.mstats import gmean\n",
    "consumo = [10,13,17,9,8,11,13,7]\n",
    "# A)\n",
    "print(f'Média aritmética simples: {statistics.mean(consumo)}\\n')\n",
    "# B)\n",
    "print(f'Média harmonica: {round(statistics.harmonic_mean(consumo))}\\n')\n",
    "# C)\n",
    "print(f'Média geométrica: {round(gmean(consumo))}\\n')\n",
    "# D)\n",
    "print(f'Moda: {statistics.mode(consumo)}\\n')\n",
    "# E)\n",
    "print(f'Variância: {round(statistics.variance(consumo))}\\n')\n",
    "# F)\n",
    "print(f'Desvio Padrão: {round(statistics.stdev(consumo))}\\n')"
   ]
  },
  {
   "cell_type": "markdown",
   "metadata": {},
   "source": [
    "#### Questão 1\n"
   ]
  }
 ],
 "metadata": {
  "interpreter": {
   "hash": "f1dc90d1e89ba650a2c3b20496ab3ea2f921a5d8d7bb70472ae7b8d07f8fe411"
  },
  "kernelspec": {
   "display_name": "Python 3.10.4 ('python-P7IjAdKf')",
   "language": "python",
   "name": "python3"
  },
  "language_info": {
   "codemirror_mode": {
    "name": "ipython",
    "version": 3
   },
   "file_extension": ".py",
   "mimetype": "text/x-python",
   "name": "python",
   "nbconvert_exporter": "python",
   "pygments_lexer": "ipython3",
   "version": "3.10.4"
  },
  "orig_nbformat": 4
 },
 "nbformat": 4,
 "nbformat_minor": 2
}
