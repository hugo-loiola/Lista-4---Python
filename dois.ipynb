{
 "cells": [
  {
   "cell_type": "markdown",
   "metadata": {},
   "source": [
    "### Questão 1"
   ]
  },
  {
   "cell_type": "code",
   "execution_count": 21,
   "metadata": {},
   "outputs": [
    {
     "name": "stdout",
     "output_type": "stream",
     "text": [
      "Média aritmética simples: 11\n",
      "\n",
      "Média harmonica: 10\n",
      "\n",
      "Média geométrica: 11\n",
      "\n",
      "Moda: 13\n",
      "\n",
      "Variância: 11\n",
      "\n",
      "Desvio Padrão: 3\n",
      "\n"
     ]
    }
   ],
   "source": [
    "import statistics\n",
    "from scipy.stats.mstats import gmean\n",
    "consumo = [10,13,17,9,8,11,13,7]\n",
    "# A)\n",
    "print(f'Média aritmética simples: {statistics.mean(consumo)}\\n')\n",
    "# B)\n",
    "print(f'Média harmonica: {round(statistics.harmonic_mean(consumo))}\\n')\n",
    "# C)\n",
    "print(f'Média geométrica: {round(gmean(consumo))}\\n')\n",
    "# D)\n",
    "print(f'Moda: {statistics.mode(consumo)}\\n')\n",
    "# E)\n",
    "print(f'Variância: {round(statistics.variance(consumo))}\\n')\n",
    "# F)\n",
    "print(f'Desvio Padrão: {round(statistics.stdev(consumo))}\\n')\n"
   ]
  },
  {
   "cell_type": "markdown",
   "metadata": {},
   "source": [
    "### Questão 2"
   ]
  },
  {
   "cell_type": "code",
   "execution_count": 22,
   "metadata": {},
   "outputs": [
    {
     "name": "stdout",
     "output_type": "stream",
     "text": [
      "Média aritmética simples: 74\n",
      "Média harmônica: 74\n",
      "Média geométrica: 74\n",
      "\n",
      "Moda: 77\n",
      "\n",
      "Mediana: 77\n",
      "\n",
      "Variância: 37\n",
      "\n",
      "Desvio padrão: 6\n",
      "\n"
     ]
    }
   ],
   "source": [
    "%reset -f\n",
    "import statistics\n",
    "from scipy.stats.mstats import gmean\n",
    "ansiedade = [67,75,63,72,77,78,81,77,80]\n",
    "# A)\n",
    "print(f'Média aritmética simples: {round(statistics.mean(ansiedade))}\\nMédia harmônica: {round(statistics.harmonic_mean(ansiedade))}\\nMédia geométrica: {round(gmean(ansiedade))}\\n')\n",
    "# B)\n",
    "print(f'Moda: {statistics.mode(ansiedade)}\\n')\n",
    "# C)\n",
    "print(f'Mediana: {statistics.median(ansiedade)}\\n')\n",
    "# D) \n",
    "print(f'Variância: {round(statistics.variance(ansiedade))}\\n')\n",
    "# E)\n",
    "print(f'Desvio padrão: {round(statistics.stdev(ansiedade))}\\n')"
   ]
  },
  {
   "cell_type": "markdown",
   "metadata": {},
   "source": [
    "### Questão 3"
   ]
  },
  {
   "cell_type": "code",
   "execution_count": 23,
   "metadata": {},
   "outputs": [
    {
     "name": "stdout",
     "output_type": "stream",
     "text": [
      "Coeficiente de Variação: 0.3159213799139029\n"
     ]
    }
   ],
   "source": [
    "%reset -f\n",
    "import statistics\n",
    "# Colocando os dados em uma lista\n",
    "leite=[4,4.5,5,5,5.5,6,6.5,6.5,6.5,\n",
    "       6.5,7,7,7,7,7,7,7.5,8.5,9,\n",
    "       9,9.5,10,10,10.5,10.5,11,12,12.5,13,13]\n",
    "# Calculo do Coeficiente de Variação\n",
    "print(f'Coeficiente de Variação: {statistics.stdev(leite)/statistics.mean(leite)}')\n"
   ]
  },
  {
   "cell_type": "markdown",
   "metadata": {},
   "source": [
    "### Questão 4"
   ]
  },
  {
   "cell_type": "code",
   "execution_count": 24,
   "metadata": {},
   "outputs": [
    {
     "name": "stdout",
     "output_type": "stream",
     "text": [
      "Produção média: 18\n",
      "\n",
      "Mediana da produção: 17.5\n",
      "\n",
      "Desvio padrão 5\n",
      "\n"
     ]
    }
   ],
   "source": [
    "%reset -f\n",
    "import statistics\n",
    "# Produção de café\n",
    "cafe = [12,15,18,22,17,14,18,23,29,12]\n",
    "# A)\n",
    "print(f'Produção média: {statistics.mean(cafe)}\\n')\n",
    "# B)\n",
    "print(f'Mediana da produção: {statistics.median(cafe)}\\n')\n",
    "# C)\n",
    "print(f'Desvio padrão {round(statistics.stdev(cafe))}\\n')\n"
   ]
  },
  {
   "cell_type": "markdown",
   "metadata": {},
   "source": [
    "### Questão 5\n"
   ]
  },
  {
   "cell_type": "code",
   "execution_count": 25,
   "metadata": {},
   "outputs": [
    {
     "name": "stdout",
     "output_type": "stream",
     "text": [
      "\n",
      " ~~~~~~~~~~~~~~~~~~~~ \n",
      " Algoritmo de Notas \n",
      " ~~~~~~~~~~~~~~~~~~~~ \n",
      "\n",
      "Fim das notas \n",
      "\n",
      "Notas inseridas: [5.0, 5.0, 5.0, 5.0, 7.0, 7.0, 7.0, 7.0, 4.0, 4.0, 4.0, 4.0, 1.0, 1.0, 1.0, 1.0]\n",
      "\n",
      "Média aritmética: 4.25\n",
      "\n",
      "Média harmônica: 3\n",
      "\n",
      "Média geométrica: 3\n",
      "\n",
      "Moda: 5.0\n",
      "\n",
      "Variância: 5.0\n",
      "\n",
      "Desvio padrão: 2.23606797749979\n",
      "\n",
      "Coeficiente de variância: 0.5261336417646564\n",
      "\n"
     ]
    }
   ],
   "source": [
    "%reset -f\n",
    "from scipy.stats.mstats import gmean\n",
    "import statistics\n",
    "notas = []\n",
    "print('\\n','~'*20,'\\n','Algoritmo de Notas','\\n','~'*20,'\\n')\n",
    "# Loop para a inserção dos dados\n",
    "while True:\n",
    "  try:\n",
    "    valor = float(input('Coloque uma nota: (-999 para sair)'))\n",
    "    # Sair do Loop\n",
    "    if valor == -999: \n",
    "      print('Fim das notas \\n')\n",
    "      break\n",
    "    # A nota estar entre 0 e 10  \n",
    "    elif valor > 10 or valor < 0: \n",
    "      print('Erro! Coloque um valor entre 0 e 10\\n')\n",
    "    # Colocar os valores recebidos em uma lista\n",
    "    else:\n",
    "      notas.append(valor) \n",
    "      continue\n",
    "  # Checar se é uma variavel do tipo int ou float\n",
    "  except:\n",
    "    print('Erro! Coloque um número\\n') \n",
    "\n",
    "# Calculo das Questões \n",
    "print(f'Notas inseridas: {notas}\\n')\n",
    "# A)\n",
    "print(f'Média aritmética: {statistics.mean(notas)}\\n')\n",
    "# B)\n",
    "print(f'Média harmônica: {round(statistics.harmonic_mean(notas))}\\n')\n",
    "# C)\n",
    "print(f'Média geométrica: {round(gmean(notas))}\\n')\n",
    "# D)\n",
    "print(f'Moda: {statistics.mode(notas)}\\n')\n",
    "# E)\n",
    "print(f'Variância: {statistics.variance(notas)}\\n')\n",
    "# F)\n",
    "print(f'Desvio padrão: {statistics.stdev(notas)}\\n')\n",
    "# G)\n",
    "print(f'Coeficiente de variância: {statistics.stdev(notas)/statistics.mean(notas)}\\n')\n"
   ]
  },
  {
   "cell_type": "markdown",
   "metadata": {},
   "source": [
    "### Questão 6"
   ]
  },
  {
   "cell_type": "code",
   "execution_count": 26,
   "metadata": {},
   "outputs": [
    {
     "name": "stdout",
     "output_type": "stream",
     "text": [
      "\n",
      " ~~~~~~~~~~~~~~~ \n",
      " Nota com Peso \n",
      " ~~~~~~~~~~~~~~~ \n",
      "\n",
      "\n",
      "A média ponderada das notas [1.0, 7.0, 10.0] é igual à 6.1\n"
     ]
    }
   ],
   "source": [
    "%reset -f\n",
    "nota=[]\n",
    "print('\\n','~'*15,'\\n','Nota com Peso','\\n','~'*15,'\\n')\n",
    "while True:\n",
    "  try:\n",
    "    # Verificar o tamanho da lista\n",
    "    if len(nota) == 3:\n",
    "      break\n",
    "    # Colocar as notas  \n",
    "    valor=float(input('Coloque a Nota: '))\n",
    "    # Verficar se é entre 0 e 10\n",
    "    if valor > 10 or valor < 0: \n",
    "      print('Erro! Coloque um valor entre 0 e 10\\n')\n",
    "    # Adicionar a nota na lista\n",
    "    else:\n",
    "      nota.append(valor)\n",
    "      continue\n",
    "  except:\n",
    "    print('Erro! Coloque um número\\n')\n",
    "\n",
    "# Calculo da Média Ponderada\n",
    "\n",
    "calculo = ((nota[0]*3)+(nota[1]*4)+(nota[2]*3))/10 # 3+4+3 = 10\n",
    "print(f'\\nA média ponderada das notas {nota} é igual à {calculo}')"
   ]
  }
 ],
 "metadata": {
  "interpreter": {
   "hash": "f1dc90d1e89ba650a2c3b20496ab3ea2f921a5d8d7bb70472ae7b8d07f8fe411"
  },
  "kernelspec": {
   "display_name": "Python 3.10.4 ('python-P7IjAdKf')",
   "language": "python",
   "name": "python3"
  },
  "language_info": {
   "codemirror_mode": {
    "name": "ipython",
    "version": 3
   },
   "file_extension": ".py",
   "mimetype": "text/x-python",
   "name": "python",
   "nbconvert_exporter": "python",
   "pygments_lexer": "ipython3",
   "version": "3.10.4"
  },
  "orig_nbformat": 4
 },
 "nbformat": 4,
 "nbformat_minor": 2
}
